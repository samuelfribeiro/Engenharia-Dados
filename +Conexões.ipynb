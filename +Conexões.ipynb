{
  "nbformat": 4,
  "nbformat_minor": 0,
  "metadata": {
    "colab": {
      "name": "+Conexões.ipynb",
      "provenance": [],
      "collapsed_sections": [
        "1rNX_uMubVqu",
        "DLb6heRTRpbm",
        "PVuwgJiEaJm2",
        "NjsdHUd4aRBG",
        "P8o9zWkTaYuZ",
        "zq6k7uj2GVBq",
        "NcJAdA17q5rQ",
        "U871iy93OzEx",
        "AAjPTcLrCwth"
      ]
    },
    "kernelspec": {
      "display_name": "Python 3",
      "name": "python3"
    },
    "language_info": {
      "name": "python"
    }
  },
  "cells": [
    {
      "cell_type": "markdown",
      "metadata": {
        "id": "uIoySn69GEWy"
      },
      "source": [
        "#Análise dos Dados de Conexão dos Usuários\n"
      ]
    },
    {
      "cell_type": "markdown",
      "metadata": {
        "id": "1rNX_uMubVqu"
      },
      "source": [
        "##Pendências"
      ]
    },
    {
      "cell_type": "markdown",
      "metadata": {
        "id": "AjOqaqU-PTa4"
      },
      "source": [
        "* Sem pendências"
      ]
    },
    {
      "cell_type": "markdown",
      "metadata": {
        "id": "DLb6heRTRpbm"
      },
      "source": [
        "##Análise do Levantamento Realizado\n"
      ]
    },
    {
      "cell_type": "markdown",
      "metadata": {
        "id": "hemWU6ExSGhW"
      },
      "source": [
        "Fonte de dados: **Sistema Radius**\n",
        "\n",
        "Variáveis levantadas preliminarmente:\n",
        "\n",
        "\n",
        "*   Tempo médio de conexão\n",
        "*   Consumo mensal de dados\n",
        "*   Fabricante do equipamenteo\n",
        "*   Total de conexões no mês\n",
        "*   Percentual de disponibilidade da conexão\n",
        "*   Tipo de acesso (streaming, jogos, web)\n",
        "\n",
        "**Análise das variáveis**<p>\n",
        "Após a preparação e análise dos dados, optou-se por considerar apenas as variáveis: \n",
        "*   **Consumo mensal de dados**\n",
        "*   **Total de conexões por mês**\n",
        "*   **Percentual de disponibilidade**\n",
        "*   **Fabricante do equipamento**\n",
        "\n",
        "A variável *Tempo médio de conexão* não foi utilizada por que ela está diretamente relacionada com as variáveis *Total de conexões por mês* e *Percentual de disponibilidade*, então optou-se por adotar essas duas.\n",
        "\n",
        "A variável *Fabricante do equipamento* não foi utilizada por que não existe uma relação única entre o usuário e um único fabricante de equipamento, então optou-se por não adotar essa informação para o cálculo da probabilidade de churn.\n",
        "\n",
        "**Oportunidades Identificadas**<p>\n",
        "Estudar a relação entre o equipamento utilizado e o número de conexões mensais e o tempo médio de conexão.\n",
        "\n",
        "Estudar a relação entre a causa da desconexão e outras variáveis, tais como: equipamento utilizado, bairro, cidade, meio de transmissão (fibra ou rádio).\n",
        "\n",
        "Estudar a relação entre o número de conexões e o bairro, cidade e meio de transmissão (fibra ou radio).\n"
      ]
    },
    {
      "cell_type": "markdown",
      "metadata": {
        "id": "PVuwgJiEaJm2"
      },
      "source": [
        "##Importação de bibliotecas"
      ]
    },
    {
      "cell_type": "code",
      "metadata": {
        "id": "94XqqMq8xcd4"
      },
      "source": [
        "import pandas as pd\n",
        "import re as re"
      ],
      "execution_count": null,
      "outputs": []
    },
    {
      "cell_type": "markdown",
      "metadata": {
        "id": "rb6ysi_daCZQ"
      },
      "source": [
        "##Definição de Funções e Constantes"
      ]
    },
    {
      "cell_type": "code",
      "metadata": {
        "id": "aieMzAqOrefN"
      },
      "source": [
        "#constantes\n",
        "HORAS = 'HORAS'\n",
        "MINUTOS = 'MINUTOS'"
      ],
      "execution_count": null,
      "outputs": []
    },
    {
      "cell_type": "code",
      "metadata": {
        "id": "HfH16ygJHWCK"
      },
      "source": [
        "def calcula_tempo_conexao(data_inicio, data_fim, unidade = 'HORAS'):\n",
        "\n",
        "  if (pd.notnull(data_fim) == False):\n",
        "    data_fim = pd.Timestamp.today(tz=data_inicio.tz)\n",
        "\n",
        "  dias = pd.Timedelta(data_fim - data_inicio).days\n",
        "  horas = pd.Timedelta(data_fim - data_inicio).seconds / (60 * 60)    # valor em horas\n",
        "  minutos = pd.Timedelta(data_fim - data_inicio).seconds / 60         # minutos\n",
        "\n",
        "  if unidade == HORAS:\n",
        "    resultado = round((dias * 24) + horas) \n",
        "  else:\n",
        "    resultado = round((dias * 24 * 60) + minutos)\n",
        "  \n",
        "  return resultado"
      ],
      "execution_count": null,
      "outputs": []
    },
    {
      "cell_type": "code",
      "metadata": {
        "id": "yn_XgatkQ_vo"
      },
      "source": [
        "def calcula_perc_disponibilidade(dados_conexoes, username):\n",
        "\n",
        "  #filtra os dados das conexões do usuário\n",
        "  dados_conexao_usuario = dados_conexoes.loc[[username], :]\n",
        "\n",
        "  #guarda a data da primeira conexão do usuário\n",
        "  data_inicio = dados_conexao_usuario['data_inicio'].min()\n",
        "  \n",
        "  #guarda a data atual\n",
        "  data_fim = pd.Timestamp.today(tz=data_inicio.tz)\n",
        "\n",
        "  #calcula o tempo decorrido desde a primeira conexão\n",
        "  total_horas = calcula_tempo_conexao(data_inicio, data_fim)\n",
        "  \n",
        "  #calcula o tempo de conexão do usuário\n",
        "  horas_conexao_usuario = dados_conexao_usuario['tempo_conexao'].sum()\n",
        "\n",
        "  perc_disponibilidade = round((horas_conexao_usuario / total_horas), 4) \n",
        "\n",
        "  if perc_disponibilidade > 1:\n",
        "      perc_disponibilidade = 1\n",
        "\n",
        "  return perc_disponibilidade"
      ],
      "execution_count": null,
      "outputs": []
    },
    {
      "cell_type": "code",
      "metadata": {
        "id": "YFy6cKHSQ1rG"
      },
      "source": [
        "def retorna_fabricante_endereco_mac(dados_mac_address, mac_address, utilizar_somente_prefixo = True):\n",
        "\n",
        "  try:\n",
        "    #retira caracteres não alfanuméricos e corta o mac no 6o caracter\n",
        "    if utilizar_somente_prefixo:\n",
        "      token_src = re.sub('[\\W_]+', '', mac_address).upper()[:6]  \n",
        "    else:\n",
        "      token_src = mac_address\n",
        "\n",
        "    #realiza a busca pelos primeiros 6 caracteres\n",
        "    dados_aux = dados_mac_address.loc[token_src]\n",
        "    \n",
        "    nro_registros = dados_aux.size\n",
        "\n",
        "    if nro_registros == 1:\n",
        "      return dados_aux.values[0]\n",
        "    else:\n",
        "      return None\n",
        "\n",
        "  except KeyError:\n",
        "    return None\n",
        "  except TypeError:\n",
        "    return None\n",
        "  else:\n",
        "    return None"
      ],
      "execution_count": null,
      "outputs": []
    },
    {
      "cell_type": "code",
      "metadata": {
        "id": "nDAkduvLXdoW"
      },
      "source": [
        "def retorna_fabricante_usuario(dados_conexoes, username):\n",
        "  #filtra os dados das conexões do usuário\n",
        "  dados_conexao_usuario = dados_conexoes.loc[[username], :]\n",
        "\n",
        "  #pega o primeiro registro das conexões do usuário\n",
        "  mac_equipamento = dados_conexao_usuario.iloc[0]['mac_equipamento']\n",
        "\n",
        "  #consulta o fabricante do endereço mac do equipamento do usuário\n",
        "  fabricante = retorna_fabricante_endereco_mac(dados_mac_address, mac_equipamento)\n",
        "\n",
        "  return fabricante"
      ],
      "execution_count": null,
      "outputs": []
    },
    {
      "cell_type": "markdown",
      "metadata": {
        "id": "NjsdHUd4aRBG"
      },
      "source": [
        "##Carga dos Dados"
      ]
    },
    {
      "cell_type": "code",
      "metadata": {
        "id": "5PROeVKKuinL",
        "colab": {
          "base_uri": "https://localhost:8080/",
          "height": 394
        },
        "outputId": "240f2000-151f-4ced-b0bc-3cc9c10167f7"
      },
      "source": [
        "#dataset com dados das conexões\n",
        "dados_origem = pd.read_csv('conexoes.csv')\n",
        "dados_origem.head()"
      ],
      "execution_count": null,
      "outputs": [
        {
          "output_type": "execute_result",
          "data": {
            "text/html": [
              "<div>\n",
              "<style scoped>\n",
              "    .dataframe tbody tr th:only-of-type {\n",
              "        vertical-align: middle;\n",
              "    }\n",
              "\n",
              "    .dataframe tbody tr th {\n",
              "        vertical-align: top;\n",
              "    }\n",
              "\n",
              "    .dataframe thead th {\n",
              "        text-align: right;\n",
              "    }\n",
              "</style>\n",
              "<table border=\"1\" class=\"dataframe\">\n",
              "  <thead>\n",
              "    <tr style=\"text-align: right;\">\n",
              "      <th></th>\n",
              "      <th>username</th>\n",
              "      <th>nasportid</th>\n",
              "      <th>acctstarttime</th>\n",
              "      <th>acctstoptime</th>\n",
              "      <th>acctinputoctets</th>\n",
              "      <th>acctoutputoctets</th>\n",
              "      <th>callingstationid</th>\n",
              "      <th>acctterminatecause</th>\n",
              "    </tr>\n",
              "  </thead>\n",
              "  <tbody>\n",
              "    <tr>\n",
              "      <th>0</th>\n",
              "      <td>roberta.lins</td>\n",
              "      <td>ae1:300</td>\n",
              "      <td>2021-09-27 21:59:29.000 -0300</td>\n",
              "      <td>NaN</td>\n",
              "      <td>358</td>\n",
              "      <td>623</td>\n",
              "      <td>00-e0-4c-e7-0d-7f</td>\n",
              "      <td>NaN</td>\n",
              "    </tr>\n",
              "    <tr>\n",
              "      <th>1</th>\n",
              "      <td>patricia.aguiar</td>\n",
              "      <td>ae1.demux0.3221225482:503</td>\n",
              "      <td>2021-09-27 21:59:17.000 -0300</td>\n",
              "      <td>NaN</td>\n",
              "      <td>124</td>\n",
              "      <td>244</td>\n",
              "      <td>d8-77-8b-d9-c4-b4</td>\n",
              "      <td>NaN</td>\n",
              "    </tr>\n",
              "    <tr>\n",
              "      <th>2</th>\n",
              "      <td>margarida.cruz</td>\n",
              "      <td>ae1.demux0.3221233669:314</td>\n",
              "      <td>2021-09-27 21:58:59.000 -0300</td>\n",
              "      <td>NaN</td>\n",
              "      <td>829</td>\n",
              "      <td>638</td>\n",
              "      <td>d8-77-8b-04-0d-b9</td>\n",
              "      <td>NaN</td>\n",
              "    </tr>\n",
              "    <tr>\n",
              "      <th>3</th>\n",
              "      <td>marines.7712.2</td>\n",
              "      <td>ae1.demux0.3221249199:810</td>\n",
              "      <td>2021-09-27 21:57:49.000 -0300</td>\n",
              "      <td>2021-09-27 21:57:50.000 -0300</td>\n",
              "      <td>0</td>\n",
              "      <td>0</td>\n",
              "      <td>58-10-8c-36-b6-22</td>\n",
              "      <td>User-Request</td>\n",
              "    </tr>\n",
              "    <tr>\n",
              "      <th>4</th>\n",
              "      <td>fernando.jesus</td>\n",
              "      <td>ae1.demux0.3221340515:301</td>\n",
              "      <td>2021-09-27 21:56:43.000 -0300</td>\n",
              "      <td>NaN</td>\n",
              "      <td>0</td>\n",
              "      <td>30</td>\n",
              "      <td>68-ff-7b-8c-e3-d9</td>\n",
              "      <td>NaN</td>\n",
              "    </tr>\n",
              "  </tbody>\n",
              "</table>\n",
              "</div>"
            ],
            "text/plain": [
              "          username  ... acctterminatecause\n",
              "0     roberta.lins  ...                NaN\n",
              "1  patricia.aguiar  ...                NaN\n",
              "2   margarida.cruz  ...                NaN\n",
              "3   marines.7712.2  ...       User-Request\n",
              "4   fernando.jesus  ...                NaN\n",
              "\n",
              "[5 rows x 8 columns]"
            ]
          },
          "metadata": {},
          "execution_count": 7
        }
      ]
    },
    {
      "cell_type": "code",
      "metadata": {
        "id": "rXJhVUYDUSb1",
        "colab": {
          "base_uri": "https://localhost:8080/"
        },
        "outputId": "4fb0c36b-255c-4d58-dcaa-9cd646440b48"
      },
      "source": [
        "linhas, colunas = dados_origem.shape\n",
        "print('A fonte de dados de conexões possui %d linhas e %d colunas.' % (linhas, colunas))"
      ],
      "execution_count": null,
      "outputs": [
        {
          "output_type": "stream",
          "name": "stdout",
          "text": [
            "A fonte de dados de conexões possui 100000 linhas e 8 colunas.\n"
          ]
        }
      ]
    },
    {
      "cell_type": "code",
      "metadata": {
        "id": "0mk1HEilNPef",
        "colab": {
          "base_uri": "https://localhost:8080/",
          "height": 394
        },
        "outputId": "3afe48a4-ac05-4196-8f8c-ee77f8b4cc4b"
      },
      "source": [
        "#dataset contendo a relação de prefixos de endereço mac e seu respectivo fabricante\n",
        "dados_mac_address_original = pd.read_csv('conexoes.macaddress.fabricante.csv')\n",
        "dados_origem.head()"
      ],
      "execution_count": null,
      "outputs": [
        {
          "output_type": "execute_result",
          "data": {
            "text/html": [
              "<div>\n",
              "<style scoped>\n",
              "    .dataframe tbody tr th:only-of-type {\n",
              "        vertical-align: middle;\n",
              "    }\n",
              "\n",
              "    .dataframe tbody tr th {\n",
              "        vertical-align: top;\n",
              "    }\n",
              "\n",
              "    .dataframe thead th {\n",
              "        text-align: right;\n",
              "    }\n",
              "</style>\n",
              "<table border=\"1\" class=\"dataframe\">\n",
              "  <thead>\n",
              "    <tr style=\"text-align: right;\">\n",
              "      <th></th>\n",
              "      <th>username</th>\n",
              "      <th>nasportid</th>\n",
              "      <th>acctstarttime</th>\n",
              "      <th>acctstoptime</th>\n",
              "      <th>acctinputoctets</th>\n",
              "      <th>acctoutputoctets</th>\n",
              "      <th>callingstationid</th>\n",
              "      <th>acctterminatecause</th>\n",
              "    </tr>\n",
              "  </thead>\n",
              "  <tbody>\n",
              "    <tr>\n",
              "      <th>0</th>\n",
              "      <td>roberta.lins</td>\n",
              "      <td>ae1:300</td>\n",
              "      <td>2021-09-27 21:59:29.000 -0300</td>\n",
              "      <td>NaN</td>\n",
              "      <td>358</td>\n",
              "      <td>623</td>\n",
              "      <td>00-e0-4c-e7-0d-7f</td>\n",
              "      <td>NaN</td>\n",
              "    </tr>\n",
              "    <tr>\n",
              "      <th>1</th>\n",
              "      <td>patricia.aguiar</td>\n",
              "      <td>ae1.demux0.3221225482:503</td>\n",
              "      <td>2021-09-27 21:59:17.000 -0300</td>\n",
              "      <td>NaN</td>\n",
              "      <td>124</td>\n",
              "      <td>244</td>\n",
              "      <td>d8-77-8b-d9-c4-b4</td>\n",
              "      <td>NaN</td>\n",
              "    </tr>\n",
              "    <tr>\n",
              "      <th>2</th>\n",
              "      <td>margarida.cruz</td>\n",
              "      <td>ae1.demux0.3221233669:314</td>\n",
              "      <td>2021-09-27 21:58:59.000 -0300</td>\n",
              "      <td>NaN</td>\n",
              "      <td>829</td>\n",
              "      <td>638</td>\n",
              "      <td>d8-77-8b-04-0d-b9</td>\n",
              "      <td>NaN</td>\n",
              "    </tr>\n",
              "    <tr>\n",
              "      <th>3</th>\n",
              "      <td>marines.7712.2</td>\n",
              "      <td>ae1.demux0.3221249199:810</td>\n",
              "      <td>2021-09-27 21:57:49.000 -0300</td>\n",
              "      <td>2021-09-27 21:57:50.000 -0300</td>\n",
              "      <td>0</td>\n",
              "      <td>0</td>\n",
              "      <td>58-10-8c-36-b6-22</td>\n",
              "      <td>User-Request</td>\n",
              "    </tr>\n",
              "    <tr>\n",
              "      <th>4</th>\n",
              "      <td>fernando.jesus</td>\n",
              "      <td>ae1.demux0.3221340515:301</td>\n",
              "      <td>2021-09-27 21:56:43.000 -0300</td>\n",
              "      <td>NaN</td>\n",
              "      <td>0</td>\n",
              "      <td>30</td>\n",
              "      <td>68-ff-7b-8c-e3-d9</td>\n",
              "      <td>NaN</td>\n",
              "    </tr>\n",
              "  </tbody>\n",
              "</table>\n",
              "</div>"
            ],
            "text/plain": [
              "          username  ... acctterminatecause\n",
              "0     roberta.lins  ...                NaN\n",
              "1  patricia.aguiar  ...                NaN\n",
              "2   margarida.cruz  ...                NaN\n",
              "3   marines.7712.2  ...       User-Request\n",
              "4   fernando.jesus  ...                NaN\n",
              "\n",
              "[5 rows x 8 columns]"
            ]
          },
          "metadata": {},
          "execution_count": 9
        }
      ]
    },
    {
      "cell_type": "code",
      "metadata": {
        "id": "QMcaxxHGO7av",
        "colab": {
          "base_uri": "https://localhost:8080/"
        },
        "outputId": "caf3f686-f638-46c5-d255-16eb4477ebe7"
      },
      "source": [
        "linhas, colunas = dados_mac_address_original.shape\n",
        "print('A fonte de dados de endereços mac e fabricantes possui %d linhas e %d colunas.' % (linhas, colunas))"
      ],
      "execution_count": null,
      "outputs": [
        {
          "output_type": "stream",
          "name": "stdout",
          "text": [
            "A fonte de dados de endereços mac e fabricantes possui 43889 linhas e 8 colunas.\n"
          ]
        }
      ]
    },
    {
      "cell_type": "code",
      "metadata": {
        "id": "LDGHhVNm5Av9",
        "colab": {
          "base_uri": "https://localhost:8080/",
          "height": 204
        },
        "outputId": "9c37406b-9ff6-486c-985a-f58968d9a0fb"
      },
      "source": [
        "#dataset com informações dos usuários que possuem o flashman instalado\n",
        "dados_usuario_flashman = pd.read_csv('conexoes.flashman.csv')\n",
        "dados_usuario_flashman.head()"
      ],
      "execution_count": null,
      "outputs": [
        {
          "output_type": "execute_result",
          "data": {
            "text/html": [
              "<div>\n",
              "<style scoped>\n",
              "    .dataframe tbody tr th:only-of-type {\n",
              "        vertical-align: middle;\n",
              "    }\n",
              "\n",
              "    .dataframe tbody tr th {\n",
              "        vertical-align: top;\n",
              "    }\n",
              "\n",
              "    .dataframe thead th {\n",
              "        text-align: right;\n",
              "    }\n",
              "</style>\n",
              "<table border=\"1\" class=\"dataframe\">\n",
              "  <thead>\n",
              "    <tr style=\"text-align: right;\">\n",
              "      <th></th>\n",
              "      <th>username</th>\n",
              "    </tr>\n",
              "  </thead>\n",
              "  <tbody>\n",
              "    <tr>\n",
              "      <th>0</th>\n",
              "      <td>abel.nascimento</td>\n",
              "    </tr>\n",
              "    <tr>\n",
              "      <th>1</th>\n",
              "      <td>abiron.luz</td>\n",
              "    </tr>\n",
              "    <tr>\n",
              "      <th>2</th>\n",
              "      <td>acenimartins</td>\n",
              "    </tr>\n",
              "    <tr>\n",
              "      <th>3</th>\n",
              "      <td>acksom.bertotto</td>\n",
              "    </tr>\n",
              "    <tr>\n",
              "      <th>4</th>\n",
              "      <td>adair.arouca</td>\n",
              "    </tr>\n",
              "  </tbody>\n",
              "</table>\n",
              "</div>"
            ],
            "text/plain": [
              "          username\n",
              "0  abel.nascimento\n",
              "1       abiron.luz\n",
              "2     acenimartins\n",
              "3  acksom.bertotto\n",
              "4     adair.arouca"
            ]
          },
          "metadata": {},
          "execution_count": 11
        }
      ]
    },
    {
      "cell_type": "code",
      "metadata": {
        "id": "b7BPx1IT5hZJ",
        "colab": {
          "base_uri": "https://localhost:8080/"
        },
        "outputId": "d4bb2331-0905-410c-dea3-886eeaed2b29"
      },
      "source": [
        "linhas, colunas = dados_usuario_flashman.shape\n",
        "print('A fonte de dados de usuários com flashmann instalado possui %d linhas e %d colunas.' % (linhas, colunas))"
      ],
      "execution_count": null,
      "outputs": [
        {
          "output_type": "stream",
          "name": "stdout",
          "text": [
            "A fonte de dados de usuários com flashmann instalado possui 1304 linhas e 1 colunas.\n"
          ]
        }
      ]
    },
    {
      "cell_type": "markdown",
      "metadata": {
        "id": "P8o9zWkTaYuZ"
      },
      "source": [
        "##Tratamento dos Dados"
      ]
    },
    {
      "cell_type": "markdown",
      "metadata": {
        "id": "pfXP0MwNOKjY"
      },
      "source": [
        "###Dados das Conexões"
      ]
    },
    {
      "cell_type": "code",
      "metadata": {
        "id": "vG4hGdhfUK5s"
      },
      "source": [
        "#dataset principal da análise com as informações de conexões do usuário\n",
        "dados = dados_origem.copy()"
      ],
      "execution_count": null,
      "outputs": []
    },
    {
      "cell_type": "code",
      "metadata": {
        "id": "1Q2g5n7lUdhH",
        "colab": {
          "base_uri": "https://localhost:8080/"
        },
        "outputId": "2417059d-da0f-4f64-b7cf-3b414d59caa9"
      },
      "source": [
        "#Criação de novas colunas\n",
        "dados['data_inicio'] = pd.to_datetime(dados['acctstarttime'], errors='coerce')\n",
        "dados['data_fim'] = pd.to_datetime(dados['acctstoptime'], errors='coerce')\n",
        "dados['ano_mes'] = dados['data_inicio'].dt.strftime(\"%Y-%m\")\n",
        "dados['mac_equipamento'] = dados['callingstationid']\n",
        "dados['consumo_dados'] = dados['acctinputoctets'] + dados['acctoutputoctets']\n",
        "dados['tempo_conexao'] = dados.apply(lambda x: calcula_tempo_conexao(x['data_inicio'], x['data_fim']), axis=1) \n",
        "\n",
        "dados.head()"
      ],
      "execution_count": null,
      "outputs": [
        {
          "output_type": "execute_result",
          "data": {
            "text/html": [
              "<div>\n",
              "<style scoped>\n",
              "    .dataframe tbody tr th:only-of-type {\n",
              "        vertical-align: middle;\n",
              "    }\n",
              "\n",
              "    .dataframe tbody tr th {\n",
              "        vertical-align: top;\n",
              "    }\n",
              "\n",
              "    .dataframe thead th {\n",
              "        text-align: right;\n",
              "    }\n",
              "</style>\n",
              "<table border=\"1\" class=\"dataframe\">\n",
              "  <thead>\n",
              "    <tr style=\"text-align: right;\">\n",
              "      <th></th>\n",
              "      <th>username</th>\n",
              "      <th>nasportid</th>\n",
              "      <th>acctstarttime</th>\n",
              "      <th>acctstoptime</th>\n",
              "      <th>acctinputoctets</th>\n",
              "      <th>acctoutputoctets</th>\n",
              "      <th>callingstationid</th>\n",
              "      <th>acctterminatecause</th>\n",
              "      <th>data_inicio</th>\n",
              "      <th>data_fim</th>\n",
              "      <th>ano_mes</th>\n",
              "      <th>mac_equipamento</th>\n",
              "      <th>consumo_dados</th>\n",
              "      <th>tempo_conexao</th>\n",
              "    </tr>\n",
              "  </thead>\n",
              "  <tbody>\n",
              "    <tr>\n",
              "      <th>0</th>\n",
              "      <td>roberta.lins</td>\n",
              "      <td>ae1:300</td>\n",
              "      <td>2021-09-27 21:59:29.000 -0300</td>\n",
              "      <td>NaN</td>\n",
              "      <td>358</td>\n",
              "      <td>623</td>\n",
              "      <td>00-e0-4c-e7-0d-7f</td>\n",
              "      <td>NaN</td>\n",
              "      <td>2021-09-27 21:59:29-03:00</td>\n",
              "      <td>NaT</td>\n",
              "      <td>2021-09</td>\n",
              "      <td>00-e0-4c-e7-0d-7f</td>\n",
              "      <td>981</td>\n",
              "      <td>713</td>\n",
              "    </tr>\n",
              "    <tr>\n",
              "      <th>1</th>\n",
              "      <td>patricia.aguiar</td>\n",
              "      <td>ae1.demux0.3221225482:503</td>\n",
              "      <td>2021-09-27 21:59:17.000 -0300</td>\n",
              "      <td>NaN</td>\n",
              "      <td>124</td>\n",
              "      <td>244</td>\n",
              "      <td>d8-77-8b-d9-c4-b4</td>\n",
              "      <td>NaN</td>\n",
              "      <td>2021-09-27 21:59:17-03:00</td>\n",
              "      <td>NaT</td>\n",
              "      <td>2021-09</td>\n",
              "      <td>d8-77-8b-d9-c4-b4</td>\n",
              "      <td>368</td>\n",
              "      <td>713</td>\n",
              "    </tr>\n",
              "    <tr>\n",
              "      <th>2</th>\n",
              "      <td>margarida.cruz</td>\n",
              "      <td>ae1.demux0.3221233669:314</td>\n",
              "      <td>2021-09-27 21:58:59.000 -0300</td>\n",
              "      <td>NaN</td>\n",
              "      <td>829</td>\n",
              "      <td>638</td>\n",
              "      <td>d8-77-8b-04-0d-b9</td>\n",
              "      <td>NaN</td>\n",
              "      <td>2021-09-27 21:58:59-03:00</td>\n",
              "      <td>NaT</td>\n",
              "      <td>2021-09</td>\n",
              "      <td>d8-77-8b-04-0d-b9</td>\n",
              "      <td>1467</td>\n",
              "      <td>713</td>\n",
              "    </tr>\n",
              "    <tr>\n",
              "      <th>3</th>\n",
              "      <td>marines.7712.2</td>\n",
              "      <td>ae1.demux0.3221249199:810</td>\n",
              "      <td>2021-09-27 21:57:49.000 -0300</td>\n",
              "      <td>2021-09-27 21:57:50.000 -0300</td>\n",
              "      <td>0</td>\n",
              "      <td>0</td>\n",
              "      <td>58-10-8c-36-b6-22</td>\n",
              "      <td>User-Request</td>\n",
              "      <td>2021-09-27 21:57:49-03:00</td>\n",
              "      <td>2021-09-27 21:57:50-03:00</td>\n",
              "      <td>2021-09</td>\n",
              "      <td>58-10-8c-36-b6-22</td>\n",
              "      <td>0</td>\n",
              "      <td>0</td>\n",
              "    </tr>\n",
              "    <tr>\n",
              "      <th>4</th>\n",
              "      <td>fernando.jesus</td>\n",
              "      <td>ae1.demux0.3221340515:301</td>\n",
              "      <td>2021-09-27 21:56:43.000 -0300</td>\n",
              "      <td>NaN</td>\n",
              "      <td>0</td>\n",
              "      <td>30</td>\n",
              "      <td>68-ff-7b-8c-e3-d9</td>\n",
              "      <td>NaN</td>\n",
              "      <td>2021-09-27 21:56:43-03:00</td>\n",
              "      <td>NaT</td>\n",
              "      <td>2021-09</td>\n",
              "      <td>68-ff-7b-8c-e3-d9</td>\n",
              "      <td>30</td>\n",
              "      <td>713</td>\n",
              "    </tr>\n",
              "  </tbody>\n",
              "</table>\n",
              "</div>"
            ],
            "text/plain": [
              "          username                  nasportid  ... consumo_dados tempo_conexao\n",
              "0     roberta.lins                    ae1:300  ...           981           713\n",
              "1  patricia.aguiar  ae1.demux0.3221225482:503  ...           368           713\n",
              "2   margarida.cruz  ae1.demux0.3221233669:314  ...          1467           713\n",
              "3   marines.7712.2  ae1.demux0.3221249199:810  ...             0             0\n",
              "4   fernando.jesus  ae1.demux0.3221340515:301  ...            30           713\n",
              "\n",
              "[5 rows x 14 columns]"
            ]
          },
          "metadata": {},
          "execution_count": 14
        }
      ]
    },
    {
      "cell_type": "code",
      "metadata": {
        "id": "uztsPlXih0vo",
        "colab": {
          "base_uri": "https://localhost:8080/"
        },
        "outputId": "2a5c7a47-66b9-4950-cb2c-85c313554672"
      },
      "source": [
        "#exclui colunas não utilizadas\n",
        "dados.drop(['acctstarttime', 'acctstoptime', 'nasportid', 'callingstationid'], axis=1, inplace=True)\n",
        "\n",
        "#renomeia o nome das colunas\n",
        "dados.columns = ['username', 'qtde_upload', 'qtde_download', 'causa_encerramento', 'data_inicio', 'data_fim', 'ano_mes', 'mac_equipamento', 'consumo_dados', 'tempo_conexao']\n",
        "\n",
        "#reorganiza as colunas \n",
        "dados = dados[['username', 'ano_mes', 'data_inicio', 'data_fim', 'tempo_conexao', 'causa_encerramento', 'qtde_download', 'qtde_upload', 'consumo_dados', 'mac_equipamento']]\n",
        "\n",
        "dados.head()"
      ],
      "execution_count": null,
      "outputs": [
        {
          "output_type": "execute_result",
          "data": {
            "text/html": [
              "<div>\n",
              "<style scoped>\n",
              "    .dataframe tbody tr th:only-of-type {\n",
              "        vertical-align: middle;\n",
              "    }\n",
              "\n",
              "    .dataframe tbody tr th {\n",
              "        vertical-align: top;\n",
              "    }\n",
              "\n",
              "    .dataframe thead th {\n",
              "        text-align: right;\n",
              "    }\n",
              "</style>\n",
              "<table border=\"1\" class=\"dataframe\">\n",
              "  <thead>\n",
              "    <tr style=\"text-align: right;\">\n",
              "      <th></th>\n",
              "      <th>username</th>\n",
              "      <th>ano_mes</th>\n",
              "      <th>data_inicio</th>\n",
              "      <th>data_fim</th>\n",
              "      <th>tempo_conexao</th>\n",
              "      <th>causa_encerramento</th>\n",
              "      <th>qtde_download</th>\n",
              "      <th>qtde_upload</th>\n",
              "      <th>consumo_dados</th>\n",
              "      <th>mac_equipamento</th>\n",
              "    </tr>\n",
              "  </thead>\n",
              "  <tbody>\n",
              "    <tr>\n",
              "      <th>0</th>\n",
              "      <td>roberta.lins</td>\n",
              "      <td>2021-09</td>\n",
              "      <td>2021-09-27 21:59:29-03:00</td>\n",
              "      <td>NaT</td>\n",
              "      <td>713</td>\n",
              "      <td>NaN</td>\n",
              "      <td>623</td>\n",
              "      <td>358</td>\n",
              "      <td>981</td>\n",
              "      <td>00-e0-4c-e7-0d-7f</td>\n",
              "    </tr>\n",
              "    <tr>\n",
              "      <th>1</th>\n",
              "      <td>patricia.aguiar</td>\n",
              "      <td>2021-09</td>\n",
              "      <td>2021-09-27 21:59:17-03:00</td>\n",
              "      <td>NaT</td>\n",
              "      <td>713</td>\n",
              "      <td>NaN</td>\n",
              "      <td>244</td>\n",
              "      <td>124</td>\n",
              "      <td>368</td>\n",
              "      <td>d8-77-8b-d9-c4-b4</td>\n",
              "    </tr>\n",
              "    <tr>\n",
              "      <th>2</th>\n",
              "      <td>margarida.cruz</td>\n",
              "      <td>2021-09</td>\n",
              "      <td>2021-09-27 21:58:59-03:00</td>\n",
              "      <td>NaT</td>\n",
              "      <td>713</td>\n",
              "      <td>NaN</td>\n",
              "      <td>638</td>\n",
              "      <td>829</td>\n",
              "      <td>1467</td>\n",
              "      <td>d8-77-8b-04-0d-b9</td>\n",
              "    </tr>\n",
              "    <tr>\n",
              "      <th>3</th>\n",
              "      <td>marines.7712.2</td>\n",
              "      <td>2021-09</td>\n",
              "      <td>2021-09-27 21:57:49-03:00</td>\n",
              "      <td>2021-09-27 21:57:50-03:00</td>\n",
              "      <td>0</td>\n",
              "      <td>User-Request</td>\n",
              "      <td>0</td>\n",
              "      <td>0</td>\n",
              "      <td>0</td>\n",
              "      <td>58-10-8c-36-b6-22</td>\n",
              "    </tr>\n",
              "    <tr>\n",
              "      <th>4</th>\n",
              "      <td>fernando.jesus</td>\n",
              "      <td>2021-09</td>\n",
              "      <td>2021-09-27 21:56:43-03:00</td>\n",
              "      <td>NaT</td>\n",
              "      <td>713</td>\n",
              "      <td>NaN</td>\n",
              "      <td>30</td>\n",
              "      <td>0</td>\n",
              "      <td>30</td>\n",
              "      <td>68-ff-7b-8c-e3-d9</td>\n",
              "    </tr>\n",
              "  </tbody>\n",
              "</table>\n",
              "</div>"
            ],
            "text/plain": [
              "          username  ano_mes  ... consumo_dados    mac_equipamento\n",
              "0     roberta.lins  2021-09  ...           981  00-e0-4c-e7-0d-7f\n",
              "1  patricia.aguiar  2021-09  ...           368  d8-77-8b-d9-c4-b4\n",
              "2   margarida.cruz  2021-09  ...          1467  d8-77-8b-04-0d-b9\n",
              "3   marines.7712.2  2021-09  ...             0  58-10-8c-36-b6-22\n",
              "4   fernando.jesus  2021-09  ...            30  68-ff-7b-8c-e3-d9\n",
              "\n",
              "[5 rows x 10 columns]"
            ]
          },
          "metadata": {},
          "execution_count": 15
        }
      ]
    },
    {
      "cell_type": "code",
      "metadata": {
        "id": "zo_9_eMlWRWY"
      },
      "source": [
        "#dataset para consultar os dados das conexões do usuário\n",
        "dados_busca = dados.set_index('username')"
      ],
      "execution_count": null,
      "outputs": []
    },
    {
      "cell_type": "markdown",
      "metadata": {
        "id": "Mh1FmS37ORtQ"
      },
      "source": [
        "###Dados dos Endereços MACs e Respectivos Fabricantes"
      ]
    },
    {
      "cell_type": "code",
      "metadata": {
        "id": "g9QpeObCOdPc"
      },
      "source": [
        "#cria a coluna sem os caracteres especiais do endereço mac\n",
        "dados_mac_address = dados_mac_address_original\n",
        "dados_mac_address['prefixo_mac'] = dados_mac_address['oui'].str.replace('[^a-zA-Z0-9]', '').str.slice(0,6)\n",
        "\n",
        "#exclui as colunas não necessárias e cria o índice pelo prefixo do endereço mac\n",
        "dados_mac_address = dados_mac_address[['prefixo_mac', 'companyName']]\n",
        "dados_mac_address.set_index('prefixo_mac', inplace=True)"
      ],
      "execution_count": null,
      "outputs": []
    },
    {
      "cell_type": "markdown",
      "metadata": {
        "id": "e1hGZC_KOf9Q"
      },
      "source": [
        "###Dados do Usuário"
      ]
    },
    {
      "cell_type": "code",
      "metadata": {
        "id": "Rc8SpfO_Xko-",
        "colab": {
          "base_uri": "https://localhost:8080/"
        },
        "outputId": "b331ce44-041f-4339-9e89-1436943ce13e"
      },
      "source": [
        "#prepara o dataset que irá agrupar o resultado final por usuário\n",
        "dados_usuario = pd.DataFrame(dados['username'].unique())\n",
        "dados_usuario.columns = ['username']\n",
        "dados_usuario.set_index('username', inplace=True)\n",
        "\n",
        "print(f'Número de {dados_usuario.shape[0]} usuários no total.')"
      ],
      "execution_count": null,
      "outputs": [
        {
          "output_type": "stream",
          "name": "stdout",
          "text": [
            "Número de 7554 usuários no total.\n"
          ]
        }
      ]
    },
    {
      "cell_type": "markdown",
      "metadata": {
        "id": "o_bDVNQM8QZP"
      },
      "source": [
        "###Dados Usuários com Flashman instalados"
      ]
    },
    {
      "cell_type": "code",
      "metadata": {
        "id": "y4i1RHTp8Wdt"
      },
      "source": [
        "#cria a coluna para sinalizar usuário com flashman instalados\n",
        "dados_usuario_flashman['flashman_instalado'] = 1\n",
        "\n",
        "dados_usuario_flashman.set_index('username', inplace=True)"
      ],
      "execution_count": null,
      "outputs": []
    },
    {
      "cell_type": "markdown",
      "metadata": {
        "id": "yNU9CVd-l-vZ"
      },
      "source": [
        "##Cálculo das Variáveis"
      ]
    },
    {
      "cell_type": "markdown",
      "metadata": {
        "id": "zq6k7uj2GVBq"
      },
      "source": [
        "###Número de conexões e consumo mensais"
      ]
    },
    {
      "cell_type": "code",
      "metadata": {
        "id": "5aMnMRHc38Fd",
        "colab": {
          "base_uri": "https://localhost:8080/"
        },
        "outputId": "b8b944d9-180a-48c3-b73c-b70cb012c8ad"
      },
      "source": [
        "#agrupa as informações das conexões por usuário e ano/mês\n",
        "dados_usuario_mes_download = dados.groupby(['username', 'ano_mes'])['qtde_download'].agg(['count', 'sum'])\n",
        "dados_usuario_mes_upload = dados.groupby(['username', 'ano_mes'])['qtde_upload'].agg(['sum'])\n",
        "\n",
        "dados_usuario_mes_download.columns = ['conexoes', 'qtde_download']\n",
        "dados_usuario_mes_upload.columns = ['qtde_upload']\n",
        "\n",
        "dados_usuario_mes = dados_usuario_mes_download.join(dados_usuario_mes_upload)\n",
        "\n",
        "dados_usuario_mes.reset_index(inplace=True)\n",
        "\n",
        "dados_usuario_mes.head()"
      ],
      "execution_count": null,
      "outputs": [
        {
          "output_type": "execute_result",
          "data": {
            "text/html": [
              "<div>\n",
              "<style scoped>\n",
              "    .dataframe tbody tr th:only-of-type {\n",
              "        vertical-align: middle;\n",
              "    }\n",
              "\n",
              "    .dataframe tbody tr th {\n",
              "        vertical-align: top;\n",
              "    }\n",
              "\n",
              "    .dataframe thead th {\n",
              "        text-align: right;\n",
              "    }\n",
              "</style>\n",
              "<table border=\"1\" class=\"dataframe\">\n",
              "  <thead>\n",
              "    <tr style=\"text-align: right;\">\n",
              "      <th></th>\n",
              "      <th>username</th>\n",
              "      <th>ano_mes</th>\n",
              "      <th>conexoes</th>\n",
              "      <th>qtde_download</th>\n",
              "      <th>qtde_upload</th>\n",
              "    </tr>\n",
              "  </thead>\n",
              "  <tbody>\n",
              "    <tr>\n",
              "      <th>0</th>\n",
              "      <td>.michalczuk</td>\n",
              "      <td>2021-09</td>\n",
              "      <td>9</td>\n",
              "      <td>61673985360</td>\n",
              "      <td>1367473488</td>\n",
              "    </tr>\n",
              "    <tr>\n",
              "      <th>1</th>\n",
              "      <td>2k.eireli</td>\n",
              "      <td>2021-09</td>\n",
              "      <td>5</td>\n",
              "      <td>171110661085</td>\n",
              "      <td>79863443632</td>\n",
              "    </tr>\n",
              "    <tr>\n",
              "      <th>2</th>\n",
              "      <td>Jessicacs</td>\n",
              "      <td>2021-09</td>\n",
              "      <td>2</td>\n",
              "      <td>6685360012</td>\n",
              "      <td>180447620</td>\n",
              "    </tr>\n",
              "    <tr>\n",
              "      <th>3</th>\n",
              "      <td>Kleine</td>\n",
              "      <td>2021-09</td>\n",
              "      <td>2</td>\n",
              "      <td>89533792783</td>\n",
              "      <td>17463280778</td>\n",
              "    </tr>\n",
              "    <tr>\n",
              "      <th>4</th>\n",
              "      <td>NEIDEFH</td>\n",
              "      <td>2021-09</td>\n",
              "      <td>17</td>\n",
              "      <td>22392804231</td>\n",
              "      <td>1127920668</td>\n",
              "    </tr>\n",
              "  </tbody>\n",
              "</table>\n",
              "</div>"
            ],
            "text/plain": [
              "      username  ano_mes  conexoes  qtde_download  qtde_upload\n",
              "0  .michalczuk  2021-09         9    61673985360   1367473488\n",
              "1    2k.eireli  2021-09         5   171110661085  79863443632\n",
              "2    Jessicacs  2021-09         2     6685360012    180447620\n",
              "3       Kleine  2021-09         2    89533792783  17463280778\n",
              "4      NEIDEFH  2021-09        17    22392804231   1127920668"
            ]
          },
          "metadata": {},
          "execution_count": 20
        }
      ]
    },
    {
      "cell_type": "markdown",
      "metadata": {
        "id": "7F3Vm5AuWs8N"
      },
      "source": [
        "###Percentual de disponibilidade"
      ]
    },
    {
      "cell_type": "code",
      "metadata": {
        "id": "kA9nCW0HKNHD",
        "colab": {
          "base_uri": "https://localhost:8080/"
        },
        "outputId": "758324f0-d5a3-480c-ce2a-a8da8cef0612"
      },
      "source": [
        "#percorre o dataset de usuário e cria um dicionario com o valor dos respectivos percentuais de disponibilidade\n",
        "dicionario = {}\n",
        "for item in dados_usuario.index:\n",
        "  dicionario.update({item: calcula_perc_disponibilidade(dados_busca, item)})\n",
        "\n",
        "#cria um dataframe a partir do dicionário para permitir o join na próxima linha\n",
        "dados_temp = pd.DataFrame.from_dict(dicionario, orient='index', columns=['perc_disponibilidade'])\n",
        "dados_temp.index.name = 'username'\n",
        "\n",
        "dados_usuario_disponibilidade = dados_usuario.join(dados_temp)\n",
        "\n",
        "dados_usuario_disponibilidade.head()"
      ],
      "execution_count": null,
      "outputs": [
        {
          "output_type": "execute_result",
          "data": {
            "text/html": [
              "<div>\n",
              "<style scoped>\n",
              "    .dataframe tbody tr th:only-of-type {\n",
              "        vertical-align: middle;\n",
              "    }\n",
              "\n",
              "    .dataframe tbody tr th {\n",
              "        vertical-align: top;\n",
              "    }\n",
              "\n",
              "    .dataframe thead th {\n",
              "        text-align: right;\n",
              "    }\n",
              "</style>\n",
              "<table border=\"1\" class=\"dataframe\">\n",
              "  <thead>\n",
              "    <tr style=\"text-align: right;\">\n",
              "      <th></th>\n",
              "      <th>perc_disponibilidade</th>\n",
              "    </tr>\n",
              "    <tr>\n",
              "      <th>username</th>\n",
              "      <th></th>\n",
              "    </tr>\n",
              "  </thead>\n",
              "  <tbody>\n",
              "    <tr>\n",
              "      <th>roberta.lins</th>\n",
              "      <td>1.000</td>\n",
              "    </tr>\n",
              "    <tr>\n",
              "      <th>patricia.aguiar</th>\n",
              "      <td>1.000</td>\n",
              "    </tr>\n",
              "    <tr>\n",
              "      <th>margarida.cruz</th>\n",
              "      <td>1.000</td>\n",
              "    </tr>\n",
              "    <tr>\n",
              "      <th>marines.7712.2</th>\n",
              "      <td>0.000</td>\n",
              "    </tr>\n",
              "    <tr>\n",
              "      <th>fernando.jesus</th>\n",
              "      <td>0.987</td>\n",
              "    </tr>\n",
              "  </tbody>\n",
              "</table>\n",
              "</div>"
            ],
            "text/plain": [
              "                 perc_disponibilidade\n",
              "username                             \n",
              "roberta.lins                    1.000\n",
              "patricia.aguiar                 1.000\n",
              "margarida.cruz                  1.000\n",
              "marines.7712.2                  0.000\n",
              "fernando.jesus                  0.987"
            ]
          },
          "metadata": {},
          "execution_count": 21
        }
      ]
    },
    {
      "cell_type": "markdown",
      "metadata": {
        "id": "FEHndvRk_E-T"
      },
      "source": [
        "**Verificar se o cálculo levará em conta as horas ou minutos para considerar indisponibilidade.**"
      ]
    },
    {
      "cell_type": "markdown",
      "metadata": {
        "id": "NcJAdA17q5rQ"
      },
      "source": [
        "###Fabricante do equipamento do usuário"
      ]
    },
    {
      "cell_type": "code",
      "metadata": {
        "id": "bWfwe7nADkQ5",
        "colab": {
          "base_uri": "https://localhost:8080/"
        },
        "outputId": "1a6341a5-06e5-408e-e0ed-146d6b96e4d3"
      },
      "source": [
        "#análise para verificar os usuários com mais do que um equipamento\n",
        "dados_grupo_usuario_mac_equipamento = dados.groupby(['username', 'mac_equipamento']).agg('count').reset_index()[['username', 'mac_equipamento']]\n",
        "\n",
        "dados_qtde_equipamento_usuario = pd.DataFrame(dados_grupo_usuario_mac_equipamento['username'].value_counts()).reset_index()\n",
        "dados_qtde_equipamento_usuario.columns = ['username', 'qtde_equip']\n",
        "\n",
        "dados_grupo_usuario_mac_equipamento.set_index('username', inplace=True)\n",
        "\n",
        "#dataset com a lista de usuários com apenas 1 equipamento\n",
        "dados_usuario_mac_equipamento = dados_qtde_equipamento_usuario.query('qtde_equip == 1')\n",
        "dados_usuario_mac_equipamento.set_index('username', inplace=True)\n",
        "\n",
        "print('Total de %s linhas agrupando usuário.'%dados_grupo_usuario_mac_equipamento.shape[0])\n",
        "print('Total de %s usuários com mais do que um equipamento.'%dados_qtde_equipamento_usuario.query('qtde_equip > 1').shape[0])\n",
        "print('Total de %s usuários com apenas um equipamento.'%dados_usuario_mac_equipamento.shape[0])"
      ],
      "execution_count": null,
      "outputs": [
        {
          "output_type": "stream",
          "name": "stdout",
          "text": [
            "Total de 7748 linhas agrupando usuário.\n",
            "Total de 110 usuários com mais do que um equipamento.\n",
            "Total de 7444 usuários com apenas um equipamento.\n"
          ]
        }
      ]
    },
    {
      "cell_type": "markdown",
      "metadata": {
        "id": "hvU_JXVqGksz"
      },
      "source": [
        "**Observação:**<p>\n",
        "Como alguns poucos usuários possuem mais do que um equipamento, foi necessário um tratamento para desconsiderar essa informação desses usuários.\n",
        "\n",
        "\n",
        "\n",
        "\n"
      ]
    },
    {
      "cell_type": "code",
      "metadata": {
        "id": "DM-0_Rbzf7-4"
      },
      "source": [
        "#percorre o dataset de usuário e cria um dicionario com o valor dos respectivos endereços mac\n",
        "dicionario = {}\n",
        "for item in dados_usuario.index:\n",
        "  #dicionario.update({item: retorna_fabricante_usuario(dados_busca, item)})\n",
        "  dicionario.update({item: retorna_fabricante_usuario(dados_grupo_usuario_mac_equipamento, item)})\n",
        "  \n",
        "dados_temp = pd.DataFrame.from_dict(dicionario, orient='index', columns=['fabricante_equipamento'])\n",
        "dados_temp.index.name = 'username'\n",
        "\n",
        "dados_usuario_fabricante_equipamento = dados_usuario.join(dados_temp)\n",
        "dados_usuario_fabricante_equipamento['fabricante_equipamento'].fillna('Vários', inplace=True)"
      ],
      "execution_count": null,
      "outputs": []
    },
    {
      "cell_type": "markdown",
      "metadata": {
        "id": "CFatAQJ_9li5"
      },
      "source": [
        "###Usuários com Flashman instalado"
      ]
    },
    {
      "cell_type": "code",
      "metadata": {
        "id": "lFI1pik49li6"
      },
      "source": [
        "#análise para verificar os usuários com mais do que um equipamento\n",
        "dados_usuario_flashman = dados_usuario.join(dados_usuario_flashman)\n",
        "dados_usuario_flashman.fillna(0, inplace=True)"
      ],
      "execution_count": null,
      "outputs": []
    },
    {
      "cell_type": "code",
      "metadata": {
        "id": "EYEFvWI-ABI1",
        "colab": {
          "base_uri": "https://localhost:8080/"
        },
        "outputId": "41ec9901-919e-4f61-eed8-ecbe8638ff5b"
      },
      "source": [
        "dados_usuario_flashman.info()"
      ],
      "execution_count": null,
      "outputs": [
        {
          "output_type": "stream",
          "name": "stdout",
          "text": [
            "<class 'pandas.core.frame.DataFrame'>\n",
            "Index: 7554 entries, roberta.lins to dalila.pamplona\n",
            "Data columns (total 1 columns):\n",
            " #   Column              Non-Null Count  Dtype  \n",
            "---  ------              --------------  -----  \n",
            " 0   flashman_instalado  7554 non-null   float64\n",
            "dtypes: float64(1)\n",
            "memory usage: 438.0+ KB\n"
          ]
        }
      ]
    },
    {
      "cell_type": "markdown",
      "metadata": {
        "id": "AxQseaZB-mA4"
      },
      "source": [
        "##Preparação do Dataset Final"
      ]
    },
    {
      "cell_type": "code",
      "metadata": {
        "id": "rc86qQrrO4po",
        "colab": {
          "base_uri": "https://localhost:8080/"
        },
        "outputId": "93f4b8f6-5871-46d9-bb56-912d016a4282"
      },
      "source": [
        "#Agrupa por usuário para calcular a média mensal das conexões e consumo de dados\n",
        "dados_usuário_conexao_consumo = dados_usuario_mes.groupby(['username'])[['conexoes', 'qtde_download', 'qtde_upload']].agg('mean').round(3)\n",
        "dados_usuário_conexao_consumo.columns = ['conexoes_mes', 'download_mes', 'upload_mes']\n",
        "\n",
        "dados_usuario = dados_usuario.join(dados_usuário_conexao_consumo)\n",
        "\n",
        "#Mescla com o dataset do percentual de disponibilidade dos serviços\n",
        "dados_usuario = dados_usuario.join(dados_usuario_disponibilidade) \n",
        "\n",
        "#Mescla com o dataset do fabricante do equipamento do usuário\n",
        "dados_usuario = dados_usuario.join(dados_usuario_fabricante_equipamento)\n",
        "\n",
        "#Mescla com o dataset com informações dos usuários com flashman instalado\n",
        "dados_usuario = dados_usuario.join(dados_usuario_flashman)\n",
        "\n",
        "dados_usuario.head()"
      ],
      "execution_count": null,
      "outputs": [
        {
          "output_type": "execute_result",
          "data": {
            "text/html": [
              "<div>\n",
              "<style scoped>\n",
              "    .dataframe tbody tr th:only-of-type {\n",
              "        vertical-align: middle;\n",
              "    }\n",
              "\n",
              "    .dataframe tbody tr th {\n",
              "        vertical-align: top;\n",
              "    }\n",
              "\n",
              "    .dataframe thead th {\n",
              "        text-align: right;\n",
              "    }\n",
              "</style>\n",
              "<table border=\"1\" class=\"dataframe\">\n",
              "  <thead>\n",
              "    <tr style=\"text-align: right;\">\n",
              "      <th></th>\n",
              "      <th>conexoes_mes</th>\n",
              "      <th>download_mes</th>\n",
              "      <th>upload_mes</th>\n",
              "      <th>perc_disponibilidade</th>\n",
              "      <th>fabricante_equipamento</th>\n",
              "      <th>flashman_instalado</th>\n",
              "    </tr>\n",
              "    <tr>\n",
              "      <th>username</th>\n",
              "      <th></th>\n",
              "      <th></th>\n",
              "      <th></th>\n",
              "      <th></th>\n",
              "      <th></th>\n",
              "      <th></th>\n",
              "    </tr>\n",
              "  </thead>\n",
              "  <tbody>\n",
              "    <tr>\n",
              "      <th>roberta.lins</th>\n",
              "      <td>19</td>\n",
              "      <td>364941750494</td>\n",
              "      <td>19550345860</td>\n",
              "      <td>1.000</td>\n",
              "      <td>Realtek Semiconductor Corp</td>\n",
              "      <td>0.0</td>\n",
              "    </tr>\n",
              "    <tr>\n",
              "      <th>patricia.aguiar</th>\n",
              "      <td>4</td>\n",
              "      <td>198568382462</td>\n",
              "      <td>22309479746</td>\n",
              "      <td>1.000</td>\n",
              "      <td>intelbras</td>\n",
              "      <td>0.0</td>\n",
              "    </tr>\n",
              "    <tr>\n",
              "      <th>margarida.cruz</th>\n",
              "      <td>10</td>\n",
              "      <td>184472137348</td>\n",
              "      <td>5432349228</td>\n",
              "      <td>1.000</td>\n",
              "      <td>intelbras</td>\n",
              "      <td>0.0</td>\n",
              "    </tr>\n",
              "    <tr>\n",
              "      <th>marines.7712.2</th>\n",
              "      <td>21</td>\n",
              "      <td>0</td>\n",
              "      <td>0</td>\n",
              "      <td>0.000</td>\n",
              "      <td>intelbras</td>\n",
              "      <td>0.0</td>\n",
              "    </tr>\n",
              "    <tr>\n",
              "      <th>fernando.jesus</th>\n",
              "      <td>5</td>\n",
              "      <td>26191880033</td>\n",
              "      <td>3541586258</td>\n",
              "      <td>0.987</td>\n",
              "      <td>TP-Link Tech Co, Ltd</td>\n",
              "      <td>0.0</td>\n",
              "    </tr>\n",
              "  </tbody>\n",
              "</table>\n",
              "</div>"
            ],
            "text/plain": [
              "                 conexoes_mes  ...  flashman_instalado\n",
              "username                       ...                    \n",
              "roberta.lins               19  ...                 0.0\n",
              "patricia.aguiar             4  ...                 0.0\n",
              "margarida.cruz             10  ...                 0.0\n",
              "marines.7712.2             21  ...                 0.0\n",
              "fernando.jesus              5  ...                 0.0\n",
              "\n",
              "[5 rows x 6 columns]"
            ]
          },
          "metadata": {},
          "execution_count": 26
        }
      ]
    },
    {
      "cell_type": "code",
      "metadata": {
        "id": "cX-ETVWr-mA5"
      },
      "source": [
        "dados_usuario.to_csv('dados_usuario.csv', sep=';', decimal=',')"
      ],
      "execution_count": null,
      "outputs": []
    },
    {
      "cell_type": "markdown",
      "metadata": {
        "id": "AAjPTcLrCwth"
      },
      "source": [
        "##Códigos utilizados durante o estudo"
      ]
    },
    {
      "cell_type": "code",
      "metadata": {
        "id": "TeX4gP8xyng_"
      },
      "source": [
        "#Colunas usadas durante o estudo\n",
        "#dados['mac_equipamento'] = dados['callingstationid'].str.replace('[^a-zA-Z0-9]', '')\n",
        "#dados['fabricante_equipamento'] = dados.apply(lambda x: retorna_fabricante_equipamento(dados_mac_address, x['mac_equipamento']), axis=1)\n",
        "#dados['tempo_conexao'] = dados.apply(lambda x: calcula_tempo_conexao(x['data_inicio'], x['data_fim']), axis=1) \n",
        "\n",
        "#Verificação de conexões ativas\n",
        "#dados_conexoes_ativas = dados[dados[\"data_fim\"].notnull()]\n",
        "#dados_conexoes_ativas.count()"
      ],
      "execution_count": null,
      "outputs": []
    },
    {
      "cell_type": "code",
      "metadata": {
        "id": "JBJbthsSyJ54"
      },
      "source": [
        "#Dataset para consulta do fabricante pela endereço mac\n",
        "\n",
        "# dados_mac_address = pd.read_csv('macaddress.fabricante.csv')\n",
        "# dados_mac_address['prefixo_mac'] = dados_mac_address['oui'].str.replace('[^a-zA-Z0-9]', '').str.slice(0,6)\n",
        "# dados_mac_address = dados_mac_address[['prefixo_mac', 'companyName']]\n",
        "# dados_mac_address.set_index('prefixo_mac', inplace=True)\n",
        "\n",
        "# #prepara o dataset que vai vincular o mac address ao fabricante\n",
        "# lista_mac_address = dados_origem['callingstationid'].unique()\n",
        "\n",
        "# dados_fabric_mac_address = pd.DataFrame({'endereco_mac': lista_mac_address})\n",
        "\n",
        "# dados_fabric_mac_address['fabricante'] = dados_fabric_mac_address.apply(\n",
        "#     lambda x: retorna_fabricante_equipamento(dados_mac_address, x['endereco_mac']), axis=1)\n",
        "\n",
        "# dados_fabric_mac_address.set_index('endereco_mac', inplace=True)"
      ],
      "execution_count": null,
      "outputs": []
    },
    {
      "cell_type": "code",
      "metadata": {
        "id": "j8a6T4edcjWH"
      },
      "source": [
        "#Associa o fabricante ao equipamento da conexão\n",
        "# dados_teste = pd.DataFrame()\n",
        "\n",
        "# dados_teste['fabricante'] = dados.apply(\n",
        "#     lambda x: retorna_fabricante_equipamento(dados_fabric_mac_address, x['mac_equipamento'], False), axis=1)"
      ],
      "execution_count": null,
      "outputs": []
    },
    {
      "cell_type": "code",
      "metadata": {
        "id": "v5juRMAKUY19"
      },
      "source": [
        "# #prepara o dataset que vai vincular o mac address das conexões aos seus fabricantes\n",
        "# lista_mac_address_conexao = dados_origem['callingstationid'].unique()\n",
        "# dados_mac_address_conexao = pd.DataFrame({'endereco_mac': lista_mac_address_conexao})\n",
        "\n",
        "# dados_mac_address_conexao['fabricante'] = dados_mac_address_conexao.apply(\n",
        "#     lambda x: retorna_fabricante_endereco_mac(dados_mac_address, x['endereco_mac']), axis=1)\n",
        "\n",
        "# dados_mac_address_conexao.head()"
      ],
      "execution_count": null,
      "outputs": []
    }
  ]
}