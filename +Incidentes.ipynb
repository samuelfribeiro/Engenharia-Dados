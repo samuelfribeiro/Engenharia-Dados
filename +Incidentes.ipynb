{
  "nbformat": 4,
  "nbformat_minor": 0,
  "metadata": {
    "colab": {
      "name": "+Incidentes.ipynb",
      "provenance": [],
      "collapsed_sections": [
        "DLb6heRTRpbm",
        "kd1MupwUvr62",
        "rb6ysi_daCZQ",
        "NjsdHUd4aRBG",
        "LuXjaXMhwmRS",
        "7F3Vm5AuWs8N"
      ]
    },
    "kernelspec": {
      "display_name": "Python 3",
      "name": "python3"
    },
    "language_info": {
      "name": "python"
    }
  },
  "cells": [
    {
      "cell_type": "markdown",
      "metadata": {
        "id": "d5xu0hOHvb_y"
      },
      "source": [
        "#Análise dos Dados de Conexão dos Usuários"
      ]
    },
    {
      "cell_type": "markdown",
      "metadata": {
        "id": "DLb6heRTRpbm"
      },
      "source": [
        "##Análise do Levantamento Realizado\n"
      ]
    },
    {
      "cell_type": "markdown",
      "metadata": {
        "id": "hemWU6ExSGhW"
      },
      "source": [
        "Fonte de dados: **Sistema Voalle**\n",
        "\n",
        "Variáveis levantadas preliminarmente:\n",
        "\n",
        "* Qtde de Incidentes Abertos Mês\n",
        "* Tempo Médio de Atendimento\n",
        "* Tipo de Incidentes\n",
        "* Forma de Resolução\n",
        "* Reincidência\n",
        "* Tempo Médio entre Incidentes\n",
        "* Atendimento SLA\n",
        "\n",
        "**Análise das variáveis**<p>\n",
        "Após a preparação e análise dos dados, optou-se por considerar apenas as variáveis: \n",
        "* **Qtde de Incidentes Abertos Ano**\n",
        "* **Tempo Médio de Atendimento**\n",
        "* **Tempo Médio entre Incidentes**\n",
        "\n",
        "Como o estudo será com base nas informações do usuário, as informações que são específicas de um incidente como o caso do *tipo da solicitação* e da *forma de resolução* não deverão ser consideradas para este estudo de churn de clientes.\n",
        "\n",
        "Não foi possível o cálculo das variáveis *Reincidência* e *Atendimento SLA* por que, atualmente, não existe uma padronização para registro dessas informações.\n",
        "\n",
        "**Oportunidades Identificadas**<p>\n",
        "Padronizar o registro das informações de reincidência de um determinado incidente.\n",
        "\n",
        "Avaliar a relevância de estabelecer processo para cálculo do atendimento do SLA nos incidentes abertos pelos clientes.\n"
      ]
    },
    {
      "cell_type": "markdown",
      "metadata": {
        "id": "kd1MupwUvr62"
      },
      "source": [
        "##Importação de bibliotecas"
      ]
    },
    {
      "cell_type": "code",
      "metadata": {
        "id": "94XqqMq8xcd4"
      },
      "source": [
        "import pandas as pd"
      ],
      "execution_count": null,
      "outputs": []
    },
    {
      "cell_type": "markdown",
      "metadata": {
        "id": "rb6ysi_daCZQ"
      },
      "source": [
        "##Definição de Funções e Constantes"
      ]
    },
    {
      "cell_type": "code",
      "metadata": {
        "id": "aieMzAqOrefN"
      },
      "source": [
        "#constantes\n",
        "HORAS = 'HORAS'\n",
        "MINUTOS = 'MINUTOS'\n",
        "VALOR_MAXIMO = 9999999"
      ],
      "execution_count": null,
      "outputs": []
    },
    {
      "cell_type": "code",
      "metadata": {
        "id": "HfH16ygJHWCK"
      },
      "source": [
        "def calcula_tempo_atendimento(data_inicio, data_fim, unidade = 'HORAS'):\n",
        "\n",
        "  if (pd.notnull(data_fim) == False):\n",
        "    data_fim = pd.Timestamp.today(tz=data_inicio.tz)\n",
        "\n",
        "  dias = pd.Timedelta(data_fim - data_inicio).days\n",
        "  horas = pd.Timedelta(data_fim - data_inicio).seconds / (60 * 60)    # valor em horas\n",
        "  minutos = pd.Timedelta(data_fim - data_inicio).seconds / 60         # minutos\n",
        "\n",
        "  if unidade == HORAS:\n",
        "    resultado = round((dias * 24) + horas) \n",
        "  else:\n",
        "    resultado = round((dias * 24 * 60) + minutos)\n",
        "  \n",
        "  return resultado"
      ],
      "execution_count": null,
      "outputs": []
    },
    {
      "cell_type": "code",
      "metadata": {
        "id": "fD_EMs7A9Tum"
      },
      "source": [
        "def calcula_tempo_medio_entre_incidentes(id_usuario):\n",
        "  \n",
        "  dados_aux = dados_calculo_tempo_entre_incidentes.loc[[id_usuario], :]\n",
        "  dados_aux.sort_values('dt_hr_abertura', inplace=True)\n",
        "\n",
        "  iteracao = 0\n",
        "  contador = 0\n",
        "\n",
        "  for idx, linha in dados_aux.iterrows():\n",
        "\n",
        "    if iteracao == 0:\n",
        "      data_encerramento_anterior = linha['dt_hr_conclusao']\n",
        "    else:\n",
        "      dias = pd.Timedelta(linha['dt_hr_abertura'] - data_encerramento_anterior).days\n",
        "      contador = contador + dias\n",
        " \n",
        "    iteracao += 1\n",
        "    \n",
        "  #calcula a média do tempo entre os incidentes do usuário\n",
        "  \n",
        "  #se houve apenas uma iteração, significa que não existem incidentes suficientes para o cálculo\n",
        "  #então a função retorna o valor máximo predefino\n",
        "  if iteracao == 1:\n",
        "    resultado = VALOR_MAXIMO\n",
        "  else:\n",
        "    resultado = contador / (iteracao - 1)\n",
        "\n",
        "    #se o tempo for 0, também é em razão de não ter incidentes suficientes para o cáculo\n",
        "    if resultado == 0:\n",
        "      resultado = VALOR_MAXIMO\n",
        "    \n",
        "    #print('Iteracao: {} - contador: {} - resultado: {}'.format(iteracao, contador, round(resultado)))\n",
        "  \n",
        "  return round(resultado)"
      ],
      "execution_count": null,
      "outputs": []
    },
    {
      "cell_type": "markdown",
      "metadata": {
        "id": "NjsdHUd4aRBG"
      },
      "source": [
        "##Carga dos Dados"
      ]
    },
    {
      "cell_type": "code",
      "metadata": {
        "colab": {
          "base_uri": "https://localhost:8080/"
        },
        "id": "5PROeVKKuinL",
        "outputId": "8b43c7df-4e61-41e6-878d-63bcb175067f"
      },
      "source": [
        "#dataset com dados dos incidentes\n",
        "dados_origem = pd.read_csv('incidentes.csv')\n",
        "dados_origem.head()"
      ],
      "execution_count": null,
      "outputs": [
        {
          "output_type": "execute_result",
          "data": {
            "text/html": [
              "<div>\n",
              "<style scoped>\n",
              "    .dataframe tbody tr th:only-of-type {\n",
              "        vertical-align: middle;\n",
              "    }\n",
              "\n",
              "    .dataframe tbody tr th {\n",
              "        vertical-align: top;\n",
              "    }\n",
              "\n",
              "    .dataframe thead th {\n",
              "        text-align: right;\n",
              "    }\n",
              "</style>\n",
              "<table border=\"1\" class=\"dataframe\">\n",
              "  <thead>\n",
              "    <tr style=\"text-align: right;\">\n",
              "      <th></th>\n",
              "      <th>assignment_id</th>\n",
              "      <th>contract_id</th>\n",
              "      <th>people_id</th>\n",
              "      <th>protocol</th>\n",
              "      <th>dt_hr_abertura</th>\n",
              "      <th>dt_hr_conclusao</th>\n",
              "      <th>status_solicitacao</th>\n",
              "      <th>tipo_solicitacao</th>\n",
              "      <th>contexto</th>\n",
              "      <th>problema</th>\n",
              "    </tr>\n",
              "  </thead>\n",
              "  <tbody>\n",
              "    <tr>\n",
              "      <th>0</th>\n",
              "      <td>297492</td>\n",
              "      <td>11844</td>\n",
              "      <td>13670</td>\n",
              "      <td>236908</td>\n",
              "      <td>2021-10-25 14:45:32.000</td>\n",
              "      <td>2021-10-25 14:46:35.000</td>\n",
              "      <td>Encerramento</td>\n",
              "      <td>Solicitação de Desbloqueio</td>\n",
              "      <td>NaN</td>\n",
              "      <td>NaN</td>\n",
              "    </tr>\n",
              "    <tr>\n",
              "      <th>1</th>\n",
              "      <td>297491</td>\n",
              "      <td>22828</td>\n",
              "      <td>12388</td>\n",
              "      <td>236907</td>\n",
              "      <td>2021-10-25 14:45:23.000</td>\n",
              "      <td>2021-10-25 14:46:53.000</td>\n",
              "      <td>Encerramento</td>\n",
              "      <td>Dúvida ou Informação</td>\n",
              "      <td>NaN</td>\n",
              "      <td>NaN</td>\n",
              "    </tr>\n",
              "    <tr>\n",
              "      <th>2</th>\n",
              "      <td>297490</td>\n",
              "      <td>21269</td>\n",
              "      <td>31400</td>\n",
              "      <td>236906</td>\n",
              "      <td>2021-10-25 14:44:46.000</td>\n",
              "      <td>2021-10-25 14:47:19.000</td>\n",
              "      <td>Encerramento</td>\n",
              "      <td>Solicitação de Desbloqueio</td>\n",
              "      <td>NaN</td>\n",
              "      <td>NaN</td>\n",
              "    </tr>\n",
              "    <tr>\n",
              "      <th>3</th>\n",
              "      <td>297486</td>\n",
              "      <td>22092</td>\n",
              "      <td>32793</td>\n",
              "      <td>236902</td>\n",
              "      <td>2021-10-25 14:32:34.000</td>\n",
              "      <td>2021-10-25 14:36:41.000</td>\n",
              "      <td>Encerramento</td>\n",
              "      <td>Solicitação de Desbloqueio</td>\n",
              "      <td>NaN</td>\n",
              "      <td>NaN</td>\n",
              "    </tr>\n",
              "    <tr>\n",
              "      <th>4</th>\n",
              "      <td>297487</td>\n",
              "      <td>8802</td>\n",
              "      <td>9171</td>\n",
              "      <td>236903</td>\n",
              "      <td>2021-10-25 14:32:00.000</td>\n",
              "      <td>2021-10-25 14:41:39.000</td>\n",
              "      <td>Encerramento</td>\n",
              "      <td>Dúvida ou Informação</td>\n",
              "      <td>NaN</td>\n",
              "      <td>NaN</td>\n",
              "    </tr>\n",
              "  </tbody>\n",
              "</table>\n",
              "</div>"
            ],
            "text/plain": [
              "   assignment_id  contract_id  ...  contexto  problema\n",
              "0         297492        11844  ...       NaN       NaN\n",
              "1         297491        22828  ...       NaN       NaN\n",
              "2         297490        21269  ...       NaN       NaN\n",
              "3         297486        22092  ...       NaN       NaN\n",
              "4         297487         8802  ...       NaN       NaN\n",
              "\n",
              "[5 rows x 10 columns]"
            ]
          },
          "metadata": {},
          "execution_count": 38
        }
      ]
    },
    {
      "cell_type": "code",
      "metadata": {
        "colab": {
          "base_uri": "https://localhost:8080/"
        },
        "id": "rXJhVUYDUSb1",
        "outputId": "fe18b6b7-e2af-4211-af58-841dde815e3a"
      },
      "source": [
        "linhas, colunas = dados_origem.shape\n",
        "print('A fonte de dados de incidentes possui %d linhas e %d colunas.' % (linhas, colunas))"
      ],
      "execution_count": null,
      "outputs": [
        {
          "output_type": "stream",
          "name": "stdout",
          "text": [
            "A fonte de dados de incidentes possui 126734 linhas e 10 colunas.\n"
          ]
        }
      ]
    },
    {
      "cell_type": "markdown",
      "metadata": {
        "id": "LuXjaXMhwmRS"
      },
      "source": [
        "##Tratamento dos Dados\n"
      ]
    },
    {
      "cell_type": "code",
      "metadata": {
        "colab": {
          "base_uri": "https://localhost:8080/"
        },
        "id": "vG4hGdhfUK5s",
        "outputId": "6671a4ac-20d1-43e1-d710-f86885353aea"
      },
      "source": [
        "#dataset principal da análise com as informações dos incidentes do usuário\n",
        "dados = dados_origem.copy()\n",
        "dados.info()"
      ],
      "execution_count": null,
      "outputs": [
        {
          "output_type": "stream",
          "name": "stdout",
          "text": [
            "<class 'pandas.core.frame.DataFrame'>\n",
            "RangeIndex: 126734 entries, 0 to 126733\n",
            "Data columns (total 10 columns):\n",
            " #   Column              Non-Null Count   Dtype \n",
            "---  ------              --------------   ----- \n",
            " 0   assignment_id       126734 non-null  int64 \n",
            " 1   contract_id         126734 non-null  int64 \n",
            " 2   people_id           126734 non-null  int64 \n",
            " 3   protocol            126734 non-null  int64 \n",
            " 4   dt_hr_abertura      126734 non-null  object\n",
            " 5   dt_hr_conclusao     126732 non-null  object\n",
            " 6   status_solicitacao  126734 non-null  object\n",
            " 7   tipo_solicitacao    126734 non-null  object\n",
            " 8   contexto            50637 non-null   object\n",
            " 9   problema            50440 non-null   object\n",
            "dtypes: int64(4), object(6)\n",
            "memory usage: 9.7+ MB\n"
          ]
        }
      ]
    },
    {
      "cell_type": "code",
      "metadata": {
        "colab": {
          "base_uri": "https://localhost:8080/"
        },
        "id": "1Q2g5n7lUdhH",
        "outputId": "6b41085a-323c-4f6f-b31d-bed54416971c"
      },
      "source": [
        "#Conversão das colunas de data/hora\n",
        "dados['dt_hr_abertura'] = pd.to_datetime(dados['dt_hr_abertura'], errors='coerce')\n",
        "dados['dt_hr_conclusao'] = pd.to_datetime(dados['dt_hr_conclusao'], errors='coerce')\n",
        "\n",
        "#Criação de nova coluna\n",
        "dados['ano'] = dados['dt_hr_abertura'].dt.strftime(\"%Y\")\n",
        "dados['mes'] = dados['dt_hr_abertura'].dt.strftime(\"%m\")\n",
        "dados['tempo_total'] = dados.apply(lambda x: calcula_tempo_atendimento(x['dt_hr_abertura'], x['dt_hr_conclusao'], HORAS), axis=1) \n",
        "\n",
        "#exclui colunas não utilizadas\n",
        "dados.drop(['status_solicitacao', 'contexto', 'problema', 'tipo_solicitacao'], axis=1, inplace=True)\n",
        "\n",
        "dados.head()"
      ],
      "execution_count": null,
      "outputs": [
        {
          "output_type": "execute_result",
          "data": {
            "text/html": [
              "<div>\n",
              "<style scoped>\n",
              "    .dataframe tbody tr th:only-of-type {\n",
              "        vertical-align: middle;\n",
              "    }\n",
              "\n",
              "    .dataframe tbody tr th {\n",
              "        vertical-align: top;\n",
              "    }\n",
              "\n",
              "    .dataframe thead th {\n",
              "        text-align: right;\n",
              "    }\n",
              "</style>\n",
              "<table border=\"1\" class=\"dataframe\">\n",
              "  <thead>\n",
              "    <tr style=\"text-align: right;\">\n",
              "      <th></th>\n",
              "      <th>assignment_id</th>\n",
              "      <th>contract_id</th>\n",
              "      <th>people_id</th>\n",
              "      <th>protocol</th>\n",
              "      <th>dt_hr_abertura</th>\n",
              "      <th>dt_hr_conclusao</th>\n",
              "      <th>ano</th>\n",
              "      <th>mes</th>\n",
              "      <th>tempo_total</th>\n",
              "    </tr>\n",
              "  </thead>\n",
              "  <tbody>\n",
              "    <tr>\n",
              "      <th>0</th>\n",
              "      <td>297492</td>\n",
              "      <td>11844</td>\n",
              "      <td>13670</td>\n",
              "      <td>236908</td>\n",
              "      <td>2021-10-25 14:45:32</td>\n",
              "      <td>2021-10-25 14:46:35</td>\n",
              "      <td>2021</td>\n",
              "      <td>10</td>\n",
              "      <td>0</td>\n",
              "    </tr>\n",
              "    <tr>\n",
              "      <th>1</th>\n",
              "      <td>297491</td>\n",
              "      <td>22828</td>\n",
              "      <td>12388</td>\n",
              "      <td>236907</td>\n",
              "      <td>2021-10-25 14:45:23</td>\n",
              "      <td>2021-10-25 14:46:53</td>\n",
              "      <td>2021</td>\n",
              "      <td>10</td>\n",
              "      <td>0</td>\n",
              "    </tr>\n",
              "    <tr>\n",
              "      <th>2</th>\n",
              "      <td>297490</td>\n",
              "      <td>21269</td>\n",
              "      <td>31400</td>\n",
              "      <td>236906</td>\n",
              "      <td>2021-10-25 14:44:46</td>\n",
              "      <td>2021-10-25 14:47:19</td>\n",
              "      <td>2021</td>\n",
              "      <td>10</td>\n",
              "      <td>0</td>\n",
              "    </tr>\n",
              "    <tr>\n",
              "      <th>3</th>\n",
              "      <td>297486</td>\n",
              "      <td>22092</td>\n",
              "      <td>32793</td>\n",
              "      <td>236902</td>\n",
              "      <td>2021-10-25 14:32:34</td>\n",
              "      <td>2021-10-25 14:36:41</td>\n",
              "      <td>2021</td>\n",
              "      <td>10</td>\n",
              "      <td>0</td>\n",
              "    </tr>\n",
              "    <tr>\n",
              "      <th>4</th>\n",
              "      <td>297487</td>\n",
              "      <td>8802</td>\n",
              "      <td>9171</td>\n",
              "      <td>236903</td>\n",
              "      <td>2021-10-25 14:32:00</td>\n",
              "      <td>2021-10-25 14:41:39</td>\n",
              "      <td>2021</td>\n",
              "      <td>10</td>\n",
              "      <td>0</td>\n",
              "    </tr>\n",
              "  </tbody>\n",
              "</table>\n",
              "</div>"
            ],
            "text/plain": [
              "   assignment_id  contract_id  people_id  ...   ano mes tempo_total\n",
              "0         297492        11844      13670  ...  2021  10           0\n",
              "1         297491        22828      12388  ...  2021  10           0\n",
              "2         297490        21269      31400  ...  2021  10           0\n",
              "3         297486        22092      32793  ...  2021  10           0\n",
              "4         297487         8802       9171  ...  2021  10           0\n",
              "\n",
              "[5 rows x 9 columns]"
            ]
          },
          "metadata": {},
          "execution_count": 41
        }
      ]
    },
    {
      "cell_type": "code",
      "metadata": {
        "colab": {
          "base_uri": "https://localhost:8080/"
        },
        "id": "34FNjaEP-NIF",
        "outputId": "0283e398-51bd-4d12-ff30-2caaaca202eb"
      },
      "source": [
        "#prepara o dataset utilizado para o cálculo do tempo entre incidentes\n",
        "dados_calculo_tempo_entre_incidentes = dados.copy();\n",
        "\n",
        "dados_calculo_tempo_entre_incidentes = dados_calculo_tempo_entre_incidentes[['people_id', 'dt_hr_abertura', 'dt_hr_conclusao']]\n",
        "\n",
        "dados_calculo_tempo_entre_incidentes.set_index('people_id', inplace=True)\n",
        "dados_calculo_tempo_entre_incidentes.info()"
      ],
      "execution_count": null,
      "outputs": [
        {
          "output_type": "stream",
          "name": "stdout",
          "text": [
            "<class 'pandas.core.frame.DataFrame'>\n",
            "Int64Index: 126734 entries, 13670 to 385\n",
            "Data columns (total 2 columns):\n",
            " #   Column           Non-Null Count   Dtype         \n",
            "---  ------           --------------   -----         \n",
            " 0   dt_hr_abertura   126734 non-null  datetime64[ns]\n",
            " 1   dt_hr_conclusao  126732 non-null  datetime64[ns]\n",
            "dtypes: datetime64[ns](2)\n",
            "memory usage: 2.9 MB\n"
          ]
        }
      ]
    },
    {
      "cell_type": "code",
      "metadata": {
        "colab": {
          "base_uri": "https://localhost:8080/"
        },
        "id": "v8vpjWufNyLm",
        "outputId": "0cc760e8-004f-4799-fab6-449d0596e7b2"
      },
      "source": [
        "#prepara o dataset que irá agrupar o resultado final por usuário\n",
        "dados_usuario = pd.DataFrame(dados['people_id'].unique())\n",
        "dados_usuario.columns = ['people_id']\n",
        "dados_usuario.set_index('people_id', inplace=True)\n",
        "\n",
        "print(f'Número de {dados_usuario.shape[0]} usuários no total.')"
      ],
      "execution_count": null,
      "outputs": [
        {
          "output_type": "stream",
          "name": "stdout",
          "text": [
            "Número de 13296 usuários no total.\n"
          ]
        }
      ]
    },
    {
      "cell_type": "markdown",
      "metadata": {
        "id": "yNU9CVd-l-vZ"
      },
      "source": [
        "##Cálculo das Variáveis"
      ]
    },
    {
      "cell_type": "code",
      "metadata": {
        "colab": {
          "base_uri": "https://localhost:8080/"
        },
        "id": "DKzj9ojrkgJF",
        "outputId": "ec3ab64b-d161-4bb3-9b05-00038950e51c"
      },
      "source": [
        "#avalia os valores existentes no dataset para determinar a relevância ou não das informações para o estudo\n",
        "dados_origem['tipo_solicitacao'].unique().shape[0]"
      ],
      "execution_count": null,
      "outputs": [
        {
          "output_type": "execute_result",
          "data": {
            "text/plain": [
              "116"
            ]
          },
          "metadata": {},
          "execution_count": 52
        }
      ]
    },
    {
      "cell_type": "markdown",
      "metadata": {
        "id": "cUA0LHtTmA5R"
      },
      "source": [
        "Como o estudo será com base nas informações do usuário, as informações que são específicas de um incidente como o caso do **tipo da solicitação** e da **forma de resolução** não deverão ser consideradas para este estudo de churn de clientes."
      ]
    },
    {
      "cell_type": "markdown",
      "metadata": {
        "id": "zq6k7uj2GVBq"
      },
      "source": [
        "###Tempo Médio para Encerramento do Incidente"
      ]
    },
    {
      "cell_type": "code",
      "metadata": {
        "colab": {
          "base_uri": "https://localhost:8080/"
        },
        "id": "5aMnMRHc38Fd",
        "outputId": "46054eb9-1d47-4260-a9f2-6b724b1f6aee"
      },
      "source": [
        "#Agrupa as informações dos incidentes por usuário e calcula a média do tempo total do atendimento\n",
        "dados_usuario_tempo_medio = dados.groupby(['people_id'])['tempo_total'].agg(['mean'])\n",
        "\n",
        "dados_usuario_tempo_medio.columns = ['horas_resolucao_incidente']\n",
        "\n",
        "dados_usuario_tempo_medio.head()"
      ],
      "execution_count": null,
      "outputs": [
        {
          "output_type": "execute_result",
          "data": {
            "text/html": [
              "<div>\n",
              "<style scoped>\n",
              "    .dataframe tbody tr th:only-of-type {\n",
              "        vertical-align: middle;\n",
              "    }\n",
              "\n",
              "    .dataframe tbody tr th {\n",
              "        vertical-align: top;\n",
              "    }\n",
              "\n",
              "    .dataframe thead th {\n",
              "        text-align: right;\n",
              "    }\n",
              "</style>\n",
              "<table border=\"1\" class=\"dataframe\">\n",
              "  <thead>\n",
              "    <tr style=\"text-align: right;\">\n",
              "      <th></th>\n",
              "      <th>horas_resolucao_incidente</th>\n",
              "    </tr>\n",
              "    <tr>\n",
              "      <th>people_id</th>\n",
              "      <th></th>\n",
              "    </tr>\n",
              "  </thead>\n",
              "  <tbody>\n",
              "    <tr>\n",
              "      <th>1</th>\n",
              "      <td>385.000000</td>\n",
              "    </tr>\n",
              "    <tr>\n",
              "      <th>12</th>\n",
              "      <td>3.833333</td>\n",
              "    </tr>\n",
              "    <tr>\n",
              "      <th>13</th>\n",
              "      <td>734.000000</td>\n",
              "    </tr>\n",
              "    <tr>\n",
              "      <th>14</th>\n",
              "      <td>275.833333</td>\n",
              "    </tr>\n",
              "    <tr>\n",
              "      <th>15</th>\n",
              "      <td>382.166667</td>\n",
              "    </tr>\n",
              "  </tbody>\n",
              "</table>\n",
              "</div>"
            ],
            "text/plain": [
              "           horas_resolucao_incidente\n",
              "people_id                           \n",
              "1                         385.000000\n",
              "12                          3.833333\n",
              "13                        734.000000\n",
              "14                        275.833333\n",
              "15                        382.166667"
            ]
          },
          "metadata": {},
          "execution_count": 44
        }
      ]
    },
    {
      "cell_type": "markdown",
      "metadata": {
        "id": "7F3Vm5AuWs8N"
      },
      "source": [
        "###Média de Incidentes por ano"
      ]
    },
    {
      "cell_type": "code",
      "metadata": {
        "colab": {
          "base_uri": "https://localhost:8080/"
        },
        "id": "kA9nCW0HKNHD",
        "outputId": "28a7bd99-e0d0-4b92-f948-8b00ad82d73a"
      },
      "source": [
        "#Agrupa as informações dos incidentes por usuário e ano para proceder com a contagem anual\n",
        "dados_usuario_incidentes_ano = dados.groupby(['people_id', 'ano'])['assignment_id'].agg(['count'])\n",
        "dados_usuario_incidentes_ano.columns = ['incidentes_ano']\n",
        "dados_usuario_incidentes_ano.reset_index(inplace=True)\n",
        "\n",
        "dados_usuario_incidentes_ano.head()"
      ],
      "execution_count": null,
      "outputs": [
        {
          "output_type": "execute_result",
          "data": {
            "text/html": [
              "<div>\n",
              "<style scoped>\n",
              "    .dataframe tbody tr th:only-of-type {\n",
              "        vertical-align: middle;\n",
              "    }\n",
              "\n",
              "    .dataframe tbody tr th {\n",
              "        vertical-align: top;\n",
              "    }\n",
              "\n",
              "    .dataframe thead th {\n",
              "        text-align: right;\n",
              "    }\n",
              "</style>\n",
              "<table border=\"1\" class=\"dataframe\">\n",
              "  <thead>\n",
              "    <tr style=\"text-align: right;\">\n",
              "      <th></th>\n",
              "      <th>people_id</th>\n",
              "      <th>ano</th>\n",
              "      <th>incidentes_ano</th>\n",
              "    </tr>\n",
              "  </thead>\n",
              "  <tbody>\n",
              "    <tr>\n",
              "      <th>0</th>\n",
              "      <td>1</td>\n",
              "      <td>2018</td>\n",
              "      <td>1</td>\n",
              "    </tr>\n",
              "    <tr>\n",
              "      <th>1</th>\n",
              "      <td>12</td>\n",
              "      <td>2018</td>\n",
              "      <td>6</td>\n",
              "    </tr>\n",
              "    <tr>\n",
              "      <th>2</th>\n",
              "      <td>13</td>\n",
              "      <td>2018</td>\n",
              "      <td>3</td>\n",
              "    </tr>\n",
              "    <tr>\n",
              "      <th>3</th>\n",
              "      <td>13</td>\n",
              "      <td>2019</td>\n",
              "      <td>1</td>\n",
              "    </tr>\n",
              "    <tr>\n",
              "      <th>4</th>\n",
              "      <td>14</td>\n",
              "      <td>2018</td>\n",
              "      <td>6</td>\n",
              "    </tr>\n",
              "  </tbody>\n",
              "</table>\n",
              "</div>"
            ],
            "text/plain": [
              "   people_id   ano  incidentes_ano\n",
              "0          1  2018               1\n",
              "1         12  2018               6\n",
              "2         13  2018               3\n",
              "3         13  2019               1\n",
              "4         14  2018               6"
            ]
          },
          "metadata": {},
          "execution_count": 45
        }
      ]
    },
    {
      "cell_type": "markdown",
      "metadata": {
        "id": "2jUyYPOUu9S1"
      },
      "source": [
        "###Tempo Médio Entre Incidentes"
      ]
    },
    {
      "cell_type": "code",
      "metadata": {
        "colab": {
          "base_uri": "https://localhost:8080/",
          "height": 235
        },
        "id": "kgjVVNlXwE5w",
        "outputId": "b8f7f4cf-d4e0-424e-be0c-4da2fb7d1086"
      },
      "source": [
        "dados_tempo_entre_incidentes = dados_usuario.copy().reset_index()\n",
        "\n",
        "dados_tempo_entre_incidentes['dias_entre_incidentes'] = dados_tempo_entre_incidentes.apply(\n",
        "    lambda x: calcula_tempo_medio_entre_incidentes(x['people_id']), axis=1)\n",
        "\n",
        "dados_tempo_entre_incidentes.set_index('people_id', inplace=True)\n",
        "\n",
        "dados_tempo_entre_incidentes.head()"
      ],
      "execution_count": null,
      "outputs": [
        {
          "output_type": "execute_result",
          "data": {
            "text/html": [
              "<div>\n",
              "<style scoped>\n",
              "    .dataframe tbody tr th:only-of-type {\n",
              "        vertical-align: middle;\n",
              "    }\n",
              "\n",
              "    .dataframe tbody tr th {\n",
              "        vertical-align: top;\n",
              "    }\n",
              "\n",
              "    .dataframe thead th {\n",
              "        text-align: right;\n",
              "    }\n",
              "</style>\n",
              "<table border=\"1\" class=\"dataframe\">\n",
              "  <thead>\n",
              "    <tr style=\"text-align: right;\">\n",
              "      <th></th>\n",
              "      <th>dias_entre_incidentes</th>\n",
              "    </tr>\n",
              "    <tr>\n",
              "      <th>people_id</th>\n",
              "      <th></th>\n",
              "    </tr>\n",
              "  </thead>\n",
              "  <tbody>\n",
              "    <tr>\n",
              "      <th>13670</th>\n",
              "      <td>490</td>\n",
              "    </tr>\n",
              "    <tr>\n",
              "      <th>12388</th>\n",
              "      <td>42</td>\n",
              "    </tr>\n",
              "    <tr>\n",
              "      <th>31400</th>\n",
              "      <td>202</td>\n",
              "    </tr>\n",
              "    <tr>\n",
              "      <th>32793</th>\n",
              "      <td>136</td>\n",
              "    </tr>\n",
              "    <tr>\n",
              "      <th>9171</th>\n",
              "      <td>505</td>\n",
              "    </tr>\n",
              "  </tbody>\n",
              "</table>\n",
              "</div>"
            ],
            "text/plain": [
              "           dias_entre_incidentes\n",
              "people_id                       \n",
              "13670                        490\n",
              "12388                         42\n",
              "31400                        202\n",
              "32793                        136\n",
              "9171                         505"
            ]
          },
          "metadata": {},
          "execution_count": 46
        }
      ]
    },
    {
      "cell_type": "markdown",
      "metadata": {
        "id": "AxQseaZB-mA4"
      },
      "source": [
        "##Preparação do Dataset Final"
      ]
    },
    {
      "cell_type": "code",
      "metadata": {
        "id": "rc86qQrrO4po",
        "colab": {
          "base_uri": "https://localhost:8080/",
          "height": 235
        },
        "outputId": "82c28edf-a275-41b2-e15e-372ced98e275"
      },
      "source": [
        "#Agrega as informações do tempo médio para encerramento dos incidentes\n",
        "dados_usuario = dados_usuario.join(dados_usuario_tempo_medio)\n",
        "\n",
        "#Agrega as informações do tempo médio entre incidentes\n",
        "dados_usuario = dados_usuario.join(dados_tempo_entre_incidentes)\n",
        "\n",
        "#Agrupa por usuário para calcular a média anual de incidentes abertos\n",
        "dados_usuario_incidentes_ano_media = pd.DataFrame(dados_usuario_incidentes_ano.groupby(['people_id'])['incidentes_ano'].agg('mean').round(3))\n",
        "dados_usuario_incidentes_ano_media.columns = ['incidentes_ano']\n",
        "\n",
        "dados_usuario = dados_usuario.join(dados_usuario_incidentes_ano_media)\n",
        "\n",
        "dados_usuario.head()"
      ],
      "execution_count": null,
      "outputs": [
        {
          "output_type": "execute_result",
          "data": {
            "text/html": [
              "<div>\n",
              "<style scoped>\n",
              "    .dataframe tbody tr th:only-of-type {\n",
              "        vertical-align: middle;\n",
              "    }\n",
              "\n",
              "    .dataframe tbody tr th {\n",
              "        vertical-align: top;\n",
              "    }\n",
              "\n",
              "    .dataframe thead th {\n",
              "        text-align: right;\n",
              "    }\n",
              "</style>\n",
              "<table border=\"1\" class=\"dataframe\">\n",
              "  <thead>\n",
              "    <tr style=\"text-align: right;\">\n",
              "      <th></th>\n",
              "      <th>horas_resolucao_incidente</th>\n",
              "      <th>dias_entre_incidentes</th>\n",
              "      <th>incidentes_ano</th>\n",
              "    </tr>\n",
              "    <tr>\n",
              "      <th>people_id</th>\n",
              "      <th></th>\n",
              "      <th></th>\n",
              "      <th></th>\n",
              "    </tr>\n",
              "  </thead>\n",
              "  <tbody>\n",
              "    <tr>\n",
              "      <th>13670</th>\n",
              "      <td>42.000000</td>\n",
              "      <td>490</td>\n",
              "      <td>5.667</td>\n",
              "    </tr>\n",
              "    <tr>\n",
              "      <th>12388</th>\n",
              "      <td>54.636364</td>\n",
              "      <td>42</td>\n",
              "      <td>11.000</td>\n",
              "    </tr>\n",
              "    <tr>\n",
              "      <th>31400</th>\n",
              "      <td>23.666667</td>\n",
              "      <td>202</td>\n",
              "      <td>6.000</td>\n",
              "    </tr>\n",
              "    <tr>\n",
              "      <th>32793</th>\n",
              "      <td>0.000000</td>\n",
              "      <td>136</td>\n",
              "      <td>6.000</td>\n",
              "    </tr>\n",
              "    <tr>\n",
              "      <th>9171</th>\n",
              "      <td>275.312500</td>\n",
              "      <td>505</td>\n",
              "      <td>4.000</td>\n",
              "    </tr>\n",
              "  </tbody>\n",
              "</table>\n",
              "</div>"
            ],
            "text/plain": [
              "           horas_resolucao_incidente  dias_entre_incidentes  incidentes_ano\n",
              "people_id                                                                  \n",
              "13670                      42.000000                    490           5.667\n",
              "12388                      54.636364                     42          11.000\n",
              "31400                      23.666667                    202           6.000\n",
              "32793                       0.000000                    136           6.000\n",
              "9171                      275.312500                    505           4.000"
            ]
          },
          "metadata": {},
          "execution_count": 47
        }
      ]
    },
    {
      "cell_type": "code",
      "metadata": {
        "colab": {
          "base_uri": "https://localhost:8080/"
        },
        "id": "iO9cHOB2Lrdt",
        "outputId": "8c1f3186-e69f-47e1-b295-5964b380f7c4"
      },
      "source": [
        "dados_usuario.info()"
      ],
      "execution_count": null,
      "outputs": [
        {
          "output_type": "stream",
          "name": "stdout",
          "text": [
            "<class 'pandas.core.frame.DataFrame'>\n",
            "Int64Index: 13296 entries, 13670 to 385\n",
            "Data columns (total 3 columns):\n",
            " #   Column                     Non-Null Count  Dtype  \n",
            "---  ------                     --------------  -----  \n",
            " 0   horas_resolucao_incidente  13296 non-null  float64\n",
            " 1   dias_entre_incidentes      13296 non-null  int64  \n",
            " 2   incidentes_ano             13296 non-null  float64\n",
            "dtypes: float64(2), int64(1)\n",
            "memory usage: 1.0 MB\n"
          ]
        }
      ]
    },
    {
      "cell_type": "code",
      "metadata": {
        "id": "cX-ETVWr-mA5"
      },
      "source": [
        "dados_usuario.to_csv('dados_usuario_incidentes.csv', sep=';', decimal=',')"
      ],
      "execution_count": null,
      "outputs": []
    }
  ]
}